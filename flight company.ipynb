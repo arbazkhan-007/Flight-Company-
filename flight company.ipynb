{
 "cells": [
  {
   "cell_type": "raw",
   "metadata": {},
   "source": [
    "1,A flight company has to schedule a journey of N groups of people from the same source to the\n",
    "same destination. Here, A1, A2, ..., AN represents the number of people in each group. All\n",
    "groups are present at the source. The flight company has M planes where B1, B2, ..., Bm\n",
    "represents the capacity of each plane.\n",
    "You are required to send all groups to destination with the following conditions:\n",
    "1. Each plane can travel from the Source to Destination with only one group at a time such\n",
    "that the capacity of a plane is enough to accommodate all people in that group.\n",
    "2. All people belonging to the same group travel together.\n",
    "3. Every plane can make multiple journeys between source and destination.\n",
    "4. It costs 1 unit of time to travel between source to destination and vice versa.\n",
    "Note: Multiple planes can fly together and also it is not necessary for planes to end their journey\n",
    "at the source.\n",
    "Determine the minimum time required to send all groups from the source to the destination.\n",
    "Input: The number of groups N, the people in each group, the number planes M, and the capacity\n",
    "of each plan\n",
    "For example, N = 4 and M = 3.\n",
    "8, 1, 6, 9 are the number of people in each of the 4 groups\n",
    "7, 3, 2 is the capacity of each plane of 3 planes\n",
    "\n",
    "Output: The minimum time required to send all the groups to the destination"
   ]
  },
  {
   "cell_type": "code",
   "execution_count": 2,
   "metadata": {},
   "outputs": [
    {
     "name": "stdin",
     "output_type": "stream",
     "text": [
      "Enter The Number of Groups(n) & No of Planes(m) 4 3\n",
      "Enter the No of Passengers in each group in the above order 8 1 6 9\n",
      "Enter the Capacity of Each plane in above order 7 3 2\n"
     ]
    },
    {
     "name": "stdout",
     "output_type": "stream",
     "text": [
      "The Number of Trip's Taken -1\n"
     ]
    }
   ],
   "source": [
    "import sys\n",
    "n, m = map(int, input(\"Enter The Number of Groups(n) & No of Planes(m)\").split())\n",
    "a = list(map(int, input(\"Enter the No of Passengers in each group in the above order\").split()))\n",
    "b = list(map(int, input(\"Enter the Capacity of Each plane in above order\").split()))\n",
    "b.sort()\n",
    "b.reverse()\n",
    "a.sort()\n",
    "a.reverse()\n",
    "if b[0] < a[0]:\n",
    "    print(\"The Number of Trip's Taken -1\")\n",
    "else:\n",
    "    i = 1\n",
    "    j = 1\n",
    "    time = 1\n",
    "    source = m - 1\n",
    "    destination = 1\n",
    "    maxtimes = -1\n",
    "    while i < n:\n",
    "        while b[j] < a[i]:\n",
    "            i += 1\n",
    "            time += 2\n",
    "            if time > maxtimes:\n",
    "                maxtimes = time\n",
    "        j += 1\n",
    "        i += 1\n",
    "        time = 1\n",
    "        if time > maxtimes:\n",
    "            maxtimes = time\n",
    "        source -= 1\n",
    "        destination += 1\n",
    "        if j == m and i != n:\n",
    "            if source >= (n - i):\n",
    "                maxtimes += 1\n",
    "                break\n",
    "            else:\n",
    "                source = m\n",
    "                maxtimes += 1\n",
    "                if source >= n - i:\n",
    "                    maxtimes += 1\n",
    "                    break\n",
    "                else:\n",
    "                    k = ((n - i) // source) + ((n - i) % source != 0)\n",
    "                    maxtimes = 2 * k - 1\n",
    "    if time > maxtimes:\n",
    "        maxtimes = time\n",
    "    print(\"The No of Trip's Taken is: \", maxtimes)\n"
   ]
  },
  {
   "cell_type": "code",
   "execution_count": null,
   "metadata": {},
   "outputs": [],
   "source": []
  },
  {
   "cell_type": "code",
   "execution_count": null,
   "metadata": {},
   "outputs": [],
   "source": []
  }
 ],
 "metadata": {
  "kernelspec": {
   "display_name": "Python 3",
   "language": "python",
   "name": "python3"
  },
  "language_info": {
   "codemirror_mode": {
    "name": "ipython",
    "version": 3
   },
   "file_extension": ".py",
   "mimetype": "text/x-python",
   "name": "python",
   "nbconvert_exporter": "python",
   "pygments_lexer": "ipython3",
   "version": "3.7.6"
  }
 },
 "nbformat": 4,
 "nbformat_minor": 4
}
